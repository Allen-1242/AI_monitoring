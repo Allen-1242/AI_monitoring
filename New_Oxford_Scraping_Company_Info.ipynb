{
 "cells": [
  {
   "cell_type": "code",
   "execution_count": 2,
   "id": "da653c85-c7b2-49ac-ae1d-4a0b85f81719",
   "metadata": {},
   "outputs": [],
   "source": [
    "service = Service(executable_path=GeckoDriverManager().install())"
   ]
  },
  {
   "cell_type": "code",
   "execution_count": 1,
   "id": "79b61a20-bea1-4298-b955-e04226158d46",
   "metadata": {},
   "outputs": [],
   "source": [
    "from selenium import webdriver\n",
    "from selenium.webdriver.firefox.service import Service\n",
    "from webdriver_manager.firefox import GeckoDriverManager"
   ]
  },
  {
   "cell_type": "code",
   "execution_count": 3,
   "id": "53931b60-a5da-4014-bf82-76ef37396665",
   "metadata": {},
   "outputs": [],
   "source": [
    "# Setup Firefox with Selenium\n",
    "#Import Requests and Beautiful Soup\n",
    "import requests\n",
    "from bs4 import BeautifulSoup\n",
    "import time\n",
    "\n",
    "from lxml import etree\n",
    "from lxml.html import fromstring"
   ]
  },
  {
   "cell_type": "code",
   "execution_count": 5,
   "id": "7dc5196a-d54d-4a33-b3af-4ee25a78810a",
   "metadata": {},
   "outputs": [],
   "source": [
    "driver = webdriver.Firefox(service=service)"
   ]
  },
  {
   "cell_type": "code",
   "execution_count": 6,
   "id": "1fc8033b-4320-47ce-a9c9-e9cf22da77ab",
   "metadata": {},
   "outputs": [],
   "source": [
    "#Accessing the main Govt website\n",
    "driver.get(\"https://www.cisa.gov/national-critical-functions-set\")"
   ]
  },
  {
   "cell_type": "code",
   "execution_count": 11,
   "id": "14a5d523-490e-4e14-a864-f92047074ad3",
   "metadata": {},
   "outputs": [],
   "source": [
    "page_source = driver.page_source"
   ]
  },
  {
   "cell_type": "code",
   "execution_count": 14,
   "id": "a2f8c612-0dbd-4ec9-b612-3166932b86ff",
   "metadata": {},
   "outputs": [],
   "source": [
    "# Parse the page source with Beautiful Soup\n",
    "soup = BeautifulSoup(page_source, 'html.parser')\n",
    "\n",
    "#Table selection at first\n",
    "list_items = soup.find('table')"
   ]
  },
  {
   "cell_type": "code",
   "execution_count": 15,
   "id": "6e6db385-afb0-4f00-9fce-93f12605039e",
   "metadata": {
    "collapsed": true,
    "jupyter": {
     "outputs_hidden": true
    }
   },
   "outputs": [
    {
     "ename": "KeyError",
     "evalue": "4",
     "output_type": "error",
     "traceback": [
      "\u001b[0;31m---------------------------------------------------------------------------\u001b[0m",
      "\u001b[0;31mKeyError\u001b[0m                                  Traceback (most recent call last)",
      "Cell \u001b[0;32mIn[15], line 3\u001b[0m\n\u001b[1;32m      1\u001b[0m \u001b[38;5;66;03m# Extraction of headings\u001b[39;00m\n\u001b[1;32m      2\u001b[0m headings_final \u001b[38;5;241m=\u001b[39m []\n\u001b[0;32m----> 3\u001b[0m headings \u001b[38;5;241m=\u001b[39m \u001b[43mlist_items\u001b[49m\u001b[43m[\u001b[49m\u001b[38;5;241;43m4\u001b[39;49m\u001b[43m]\u001b[49m\u001b[38;5;241m.\u001b[39mfind_all(\u001b[38;5;124m'\u001b[39m\u001b[38;5;124mtr\u001b[39m\u001b[38;5;124m'\u001b[39m)[\u001b[38;5;241m0\u001b[39m]\u001b[38;5;241m.\u001b[39mfind_all(\u001b[38;5;124m'\u001b[39m\u001b[38;5;124mp\u001b[39m\u001b[38;5;124m'\u001b[39m)\n\u001b[1;32m      4\u001b[0m \u001b[38;5;28;01mfor\u001b[39;00m heading \u001b[38;5;129;01min\u001b[39;00m headings:\n\u001b[1;32m      5\u001b[0m     headings_final\u001b[38;5;241m.\u001b[39mappend(heading\u001b[38;5;241m.\u001b[39mtext\u001b[38;5;241m.\u001b[39mstrip())\n",
      "File \u001b[0;32m~/anaconda3/envs/Oxford_Scraping/lib/python3.12/site-packages/bs4/element.py:1573\u001b[0m, in \u001b[0;36mTag.__getitem__\u001b[0;34m(self, key)\u001b[0m\n\u001b[1;32m   1570\u001b[0m \u001b[38;5;28;01mdef\u001b[39;00m \u001b[38;5;21m__getitem__\u001b[39m(\u001b[38;5;28mself\u001b[39m, key):\n\u001b[1;32m   1571\u001b[0m \u001b[38;5;250m    \u001b[39m\u001b[38;5;124;03m\"\"\"tag[key] returns the value of the 'key' attribute for the Tag,\u001b[39;00m\n\u001b[1;32m   1572\u001b[0m \u001b[38;5;124;03m    and throws an exception if it's not there.\"\"\"\u001b[39;00m\n\u001b[0;32m-> 1573\u001b[0m     \u001b[38;5;28;01mreturn\u001b[39;00m \u001b[38;5;28;43mself\u001b[39;49m\u001b[38;5;241;43m.\u001b[39;49m\u001b[43mattrs\u001b[49m\u001b[43m[\u001b[49m\u001b[43mkey\u001b[49m\u001b[43m]\u001b[49m\n",
      "\u001b[0;31mKeyError\u001b[0m: 4"
     ]
    }
   ],
   "source": [
    "# Extraction of headings\n",
    "headings_final = []\n",
    "headings = list_items[4].find_all('tr')[0].find_all('p')\n",
    "for heading in headings:\n",
    "    headings_final.append(heading.text.strip())\n",
    "\n",
    "# Initialize the dictionary to store department data\n",
    "extracted_values = {}\n",
    "\n",
    "# Assuming each `ul` corresponds to a heading and its respective departments\n",
    "for index, li in enumerate(li_tags):\n",
    "    # Initialize a list to store department names for this heading\n",
    "    department_list = []\n",
    "    \n",
    "    # Extract all list values\n",
    "    li_tag = li.find_all('li')\n",
    "    for item in li_tag:\n",
    "        department_list.append(item.text.strip())\n",
    "    \n",
    "    # Writing this to the extracted values, using heading text as key\n",
    "    if index < len(headings_final):  # Ensure we have a heading available\n",
    "        extracted_values[headings_final[index]] = department_list"
   ]
  },
  {
   "cell_type": "code",
   "execution_count": 16,
   "id": "cbbec3a4-5cdd-4eec-83fc-0ca0a27f30b2",
   "metadata": {},
   "outputs": [],
   "source": [
    "#Extracting the list of companies for each divison \n",
    "\n",
    "#Shifting to the sector coordinating councils\n",
    "driver.get(\"https://www.cisa.gov/resources-tools/groups/sector-coordinating-councils\")"
   ]
  },
  {
   "cell_type": "code",
   "execution_count": 17,
   "id": "16f17af8-abb3-42c3-8796-2257a5b43e9c",
   "metadata": {},
   "outputs": [],
   "source": [
    "page_source = driver.page_source"
   ]
  },
  {
   "cell_type": "code",
   "execution_count": 18,
   "id": "44a55d04-2f89-47bf-95cd-9857571697b1",
   "metadata": {},
   "outputs": [],
   "source": [
    "# Parse the page source with Beautiful Soup\n",
    "soup = BeautifulSoup(page_source, 'html.parser')"
   ]
  },
  {
   "cell_type": "code",
   "execution_count": 20,
   "id": "fd4e7d69-b486-46a8-80b8-9f70ab965d2c",
   "metadata": {
    "collapsed": true,
    "jupyter": {
     "outputs_hidden": true
    }
   },
   "outputs": [
    {
     "ename": "NameError",
     "evalue": "name 'c_card_elements' is not defined",
     "output_type": "error",
     "traceback": [
      "\u001b[0;31m---------------------------------------------------------------------------\u001b[0m",
      "\u001b[0;31mNameError\u001b[0m                                 Traceback (most recent call last)",
      "Cell \u001b[0;32mIn[20], line 5\u001b[0m\n\u001b[1;32m      2\u001b[0m hrefs \u001b[38;5;241m=\u001b[39m []\n\u001b[1;32m      4\u001b[0m \u001b[38;5;66;03m# Iterate over each 'c-card' element to find <a> tags and extract the 'href' attribute\u001b[39;00m\n\u001b[0;32m----> 5\u001b[0m \u001b[38;5;28;01mfor\u001b[39;00m card \u001b[38;5;129;01min\u001b[39;00m \u001b[43mc_card_elements\u001b[49m:\n\u001b[1;32m      6\u001b[0m     a_tag \u001b[38;5;241m=\u001b[39m card\u001b[38;5;241m.\u001b[39mfind(\u001b[38;5;124m'\u001b[39m\u001b[38;5;124ma\u001b[39m\u001b[38;5;124m'\u001b[39m)  \u001b[38;5;66;03m# Find the <a> tag within the c-card\u001b[39;00m\n\u001b[1;32m      7\u001b[0m     \u001b[38;5;28;01mif\u001b[39;00m a_tag \u001b[38;5;129;01mand\u001b[39;00m a_tag\u001b[38;5;241m.\u001b[39mhas_attr(\u001b[38;5;124m'\u001b[39m\u001b[38;5;124mhref\u001b[39m\u001b[38;5;124m'\u001b[39m):  \u001b[38;5;66;03m# Check if the <a> tag has an 'href' attribute\u001b[39;00m\n",
      "\u001b[0;31mNameError\u001b[0m: name 'c_card_elements' is not defined"
     ]
    }
   ],
   "source": [
    "# Initialize a list to hold all hrefs\n",
    "hrefs = []\n",
    "\n",
    "# Iterate over each 'c-card' element to find <a> tags and extract the 'href' attribute\n",
    "for card in c_card_elements:\n",
    "    a_tag = card.find('a')  # Find the <a> tag within the c-card\n",
    "    if a_tag and a_tag.has_attr('href'):  # Check if the <a> tag has an 'href' attribute\n",
    "        hrefs.append(a_tag['href'])  # Append the href value to the list\n",
    "\n",
    "# Print or process the list of hrefs\n",
    "for href in hrefs:\n",
    "    print(href)"
   ]
  },
  {
   "cell_type": "code",
   "execution_count": 21,
   "id": "7d481aa1-3de6-4e83-8246-ce57c792235a",
   "metadata": {},
   "outputs": [],
   "source": [
    "driver.get(\"https://www.cisa.gov/topics/critical-infrastructure-security-and-resilience/critical-infrastructure-sectors/chemical-sector/chemical-sector-charters-and-membership\")\n",
    "page_source = driver.page_source\n",
    "soup = BeautifulSoup(page_source, 'html.parser')"
   ]
  },
  {
   "cell_type": "code",
   "execution_count": 22,
   "id": "ddc5ca29-6085-4abc-a1cb-b3a48bd5d2df",
   "metadata": {
    "collapsed": true,
    "jupyter": {
     "outputs_hidden": true
    }
   },
   "outputs": [
    {
     "ename": "KeyError",
     "evalue": "4",
     "output_type": "error",
     "traceback": [
      "\u001b[0;31m---------------------------------------------------------------------------\u001b[0m",
      "\u001b[0;31mKeyError\u001b[0m                                  Traceback (most recent call last)",
      "Cell \u001b[0;32mIn[22], line 2\u001b[0m\n\u001b[1;32m      1\u001b[0m Secctor_Members \u001b[38;5;241m=\u001b[39m []\n\u001b[0;32m----> 2\u001b[0m headings \u001b[38;5;241m=\u001b[39m \u001b[43mlist_items\u001b[49m\u001b[43m[\u001b[49m\u001b[38;5;241;43m4\u001b[39;49m\u001b[43m]\u001b[49m\u001b[38;5;241m.\u001b[39mfind_all(\u001b[38;5;124m'\u001b[39m\u001b[38;5;124mtr\u001b[39m\u001b[38;5;124m'\u001b[39m)[\u001b[38;5;241m0\u001b[39m]\u001b[38;5;241m.\u001b[39mfind_all(\u001b[38;5;124m'\u001b[39m\u001b[38;5;124mp\u001b[39m\u001b[38;5;124m'\u001b[39m)\n",
      "File \u001b[0;32m~/anaconda3/envs/Oxford_Scraping/lib/python3.12/site-packages/bs4/element.py:1573\u001b[0m, in \u001b[0;36mTag.__getitem__\u001b[0;34m(self, key)\u001b[0m\n\u001b[1;32m   1570\u001b[0m \u001b[38;5;28;01mdef\u001b[39;00m \u001b[38;5;21m__getitem__\u001b[39m(\u001b[38;5;28mself\u001b[39m, key):\n\u001b[1;32m   1571\u001b[0m \u001b[38;5;250m    \u001b[39m\u001b[38;5;124;03m\"\"\"tag[key] returns the value of the 'key' attribute for the Tag,\u001b[39;00m\n\u001b[1;32m   1572\u001b[0m \u001b[38;5;124;03m    and throws an exception if it's not there.\"\"\"\u001b[39;00m\n\u001b[0;32m-> 1573\u001b[0m     \u001b[38;5;28;01mreturn\u001b[39;00m \u001b[38;5;28;43mself\u001b[39;49m\u001b[38;5;241;43m.\u001b[39;49m\u001b[43mattrs\u001b[49m\u001b[43m[\u001b[49m\u001b[43mkey\u001b[49m\u001b[43m]\u001b[49m\n",
      "\u001b[0;31mKeyError\u001b[0m: 4"
     ]
    }
   ],
   "source": [
    "Secctor_Members = []\n",
    "headings = list_items[4].find_all('tr')[0].find_all('p')"
   ]
  },
  {
   "cell_type": "code",
   "execution_count": 23,
   "id": "79ab2d2b-7d20-4687-81c2-909526c1fb5d",
   "metadata": {},
   "outputs": [
    {
     "name": "stderr",
     "output_type": "stream",
     "text": [
      "/var/folders/jq/vkbby4bd33xbf6kks2_zrswh0000gn/T/ipykernel_37270/2519682704.py:2: DeprecationWarning: The 'text' argument to find()-type methods is deprecated. Use 'string' instead.\n",
      "  h3_tag = soup.find('h3', text=\"Sector Coordinating Council\")\n"
     ]
    }
   ],
   "source": [
    "# Find the <h3> tag with the specific text\n",
    "h3_tag = soup.find('h3', text=\"Sector Coordinating Council\")\n",
    "\n",
    "# Initialize a variable to hold the <ul> list\n",
    "ul_list = None\n",
    "Sector_Members = []\n",
    "\n",
    "# Check if the <h3> tag was found\n",
    "if h3_tag:\n",
    "    # Attempt to find the next <ul> sibling\n",
    "    ul_list = h3_tag.find_next_sibling('ul')\n",
    "\n",
    "# Check if the <ul> list was found and print it\n",
    "if ul_list:\n",
    "    # If you want to print each item in the list\n",
    "    for li in ul_list.find_all('li'):\n",
    "        #print(li.text)\n",
    "        Sector_Members.append(li.text)\n",
    "else:\n",
    "    print(\"No <ul> list found following the specified <h3> tag.\")"
   ]
  },
  {
   "cell_type": "code",
   "execution_count": 24,
   "id": "1d18e9a4-cb27-4e77-9698-0b68e0adcf8e",
   "metadata": {},
   "outputs": [
    {
     "data": {
      "text/plain": [
       "['Agricultural Retailers Association',\n",
       " 'American Chemistry Council',\n",
       " 'American Coatings Association',\n",
       " 'American Fuel and Petrochemical Manufacturers',\n",
       " 'Chlorine Institute, The',\n",
       " 'Compressed Gas Association',\n",
       " 'CropLife America',\n",
       " 'Fertilizer Institute, The',\n",
       " 'Institute of Makers of Explosives',\n",
       " 'International Institute of Ammonia Refrigeration',\n",
       " 'International Liquid Terminals Association',\n",
       " 'National Association of Chemical Distributors',\n",
       " 'Society of Chemical Manufacturers and Affiliates']"
      ]
     },
     "execution_count": 24,
     "metadata": {},
     "output_type": "execute_result"
    }
   ],
   "source": [
    "Sector_Members"
   ]
  },
  {
   "cell_type": "code",
   "execution_count": 26,
   "id": "5b66a460-0d69-4c34-b21a-e39b06935c28",
   "metadata": {},
   "outputs": [
    {
     "data": {
      "text/plain": [
       "'American Chemistry Council'"
      ]
     },
     "execution_count": 26,
     "metadata": {},
     "output_type": "execute_result"
    }
   ],
   "source": [
    "Sector_Members[1]"
   ]
  },
  {
   "cell_type": "code",
   "execution_count": 28,
   "id": "ee68ce91-01f7-4169-bc94-85e967316c0a",
   "metadata": {},
   "outputs": [],
   "source": [
    "#Search function for the Council\n",
    "from googlesearch import search\n",
    "search_results  = search(Sector_Members[1])"
   ]
  },
  {
   "cell_type": "code",
   "execution_count": 31,
   "id": "c6121885-ca49-4efa-b3c5-dfc4b01833a9",
   "metadata": {},
   "outputs": [
    {
     "name": "stdout",
     "output_type": "stream",
     "text": [
      "<generator object search at 0x1049322c0>\n"
     ]
    }
   ],
   "source": [
    "print(search_results)"
   ]
  },
  {
   "cell_type": "code",
   "execution_count": 32,
   "id": "dedfe4c0-fb0b-46e6-a4b8-213c465c5db7",
   "metadata": {},
   "outputs": [
    {
     "name": "stdout",
     "output_type": "stream",
     "text": [
      "https://www.americanchemistry.com/\n",
      "https://www.americanchemistry.com/\n",
      "https://en.wikipedia.org/wiki/American_Chemistry_Council\n",
      "https://www.linkedin.com/company/american-chemistry-council\n",
      "https://twitter.com/AmChemistry\n",
      "https://www.facebook.com/AmericanChemistry/\n",
      "https://www.acs.org/\n",
      "https://www.chemtrec.com/about-chemtrec/who-we-are/american-chemistry-council\n",
      "https://lobbymap.org/influencer/American-Chemistry-Council-ACC\n",
      "https://www.youtube.com/user/AmericanChemistry\n",
      "https://www.desmog.com/american-chemistry-council/\n"
     ]
    }
   ],
   "source": [
    "for value in search_results:\n",
    "    print(value)"
   ]
  },
  {
   "cell_type": "code",
   "execution_count": null,
   "id": "772e2720-78b0-409e-b89f-fa2560711896",
   "metadata": {},
   "outputs": [],
   "source": []
  },
  {
   "cell_type": "code",
   "execution_count": null,
   "id": "1c513c75-7cd3-410c-bbcb-504dd48e8be0",
   "metadata": {},
   "outputs": [],
   "source": []
  },
  {
   "cell_type": "code",
   "execution_count": null,
   "id": "787d98ff-ce19-4172-b338-450ba196c05c",
   "metadata": {},
   "outputs": [],
   "source": []
  },
  {
   "cell_type": "code",
   "execution_count": null,
   "id": "67050cc5-42be-4818-8bf7-7116b3689db1",
   "metadata": {},
   "outputs": [],
   "source": []
  },
  {
   "cell_type": "code",
   "execution_count": null,
   "id": "4225237b-e998-4500-9efc-735f5ac7c51f",
   "metadata": {},
   "outputs": [],
   "source": []
  },
  {
   "cell_type": "code",
   "execution_count": null,
   "id": "afc8fe79-d5ae-427d-825a-b581be269dc6",
   "metadata": {},
   "outputs": [],
   "source": []
  }
 ],
 "metadata": {
  "kernelspec": {
   "display_name": "Python 3 (ipykernel)",
   "language": "python",
   "name": "python3"
  },
  "language_info": {
   "codemirror_mode": {
    "name": "ipython",
    "version": 3
   },
   "file_extension": ".py",
   "mimetype": "text/x-python",
   "name": "python",
   "nbconvert_exporter": "python",
   "pygments_lexer": "ipython3",
   "version": "3.12.1"
  }
 },
 "nbformat": 4,
 "nbformat_minor": 5
}
