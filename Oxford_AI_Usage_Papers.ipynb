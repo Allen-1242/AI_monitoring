{
 "cells": [
  {
   "cell_type": "code",
   "execution_count": 6,
   "id": "429f8b64-d43f-4e26-94f7-4fd6f77106f2",
   "metadata": {},
   "outputs": [
    {
     "name": "stderr",
     "output_type": "stream",
     "text": [
      "Processing (all:Google OR all:Kantar) AND (all:Artificial intelligence OR all:Deep learning OR all:Machine learning): 2094it [01:24, 24.72it/s]\n"
     ]
    }
   ],
   "source": [
    "from paperscraper.arxiv import get_and_dump_arxiv_papers\n",
    "\n",
    "#Attaching the company name \n",
    "Company_Name = ['Edmunton Motors']\n",
    "ai = ['Artificial intelligence', 'Deep learning', 'Machine learning']\n",
    "#mi = ['Medical imaging']\n",
    "query = [Google, ai]\n",
    "\n",
    "get_and_dump_arxiv_papers(query, output_filepath='Google_Papers.jsonl')"
   ]
  },
  {
   "cell_type": "code",
   "execution_count": null,
   "id": "609af803-e7c0-4c8e-88d1-70740375b7de",
   "metadata": {},
   "outputs": [],
   "source": []
  }
 ],
 "metadata": {
  "kernelspec": {
   "display_name": "Python 3 (ipykernel)",
   "language": "python",
   "name": "python3"
  },
  "language_info": {
   "codemirror_mode": {
    "name": "ipython",
    "version": 3
   },
   "file_extension": ".py",
   "mimetype": "text/x-python",
   "name": "python",
   "nbconvert_exporter": "python",
   "pygments_lexer": "ipython3",
   "version": "3.12.1"
  }
 },
 "nbformat": 4,
 "nbformat_minor": 5
}
